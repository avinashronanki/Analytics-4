{
  "nbformat": 4,
  "nbformat_minor": 0,
  "metadata": {
    "kernelspec": {
      "display_name": "Python 3",
      "language": "python",
      "name": "python3"
    },
    "language_info": {
      "codemirror_mode": {
        "name": "ipython",
        "version": 3
      },
      "file_extension": ".py",
      "mimetype": "text/x-python",
      "name": "python",
      "nbconvert_exporter": "python",
      "pygments_lexer": "ipython3",
      "version": "3.7.6"
    },
    "colab": {
      "name": "LSTM_Forecast.ipynb",
      "provenance": [],
      "include_colab_link": true
    }
  },
  "cells": [
    {
      "cell_type": "markdown",
      "metadata": {
        "id": "view-in-github",
        "colab_type": "text"
      },
      "source": [
        "<a href=\"https://colab.research.google.com/github/avinashronanki/Analytics-4/blob/main/LSTM_Forecast.ipynb\" target=\"_parent\"><img src=\"https://colab.research.google.com/assets/colab-badge.svg\" alt=\"Open In Colab\"/></a>"
      ]
    },
    {
      "cell_type": "code",
      "metadata": {
        "id": "h3ovB6jRsJnl"
      },
      "source": [
        "import numpy as np\n",
        "import pandas as pd\n",
        "import matplotlib.pyplot as plt"
      ],
      "execution_count": null,
      "outputs": []
    },
    {
      "cell_type": "code",
      "metadata": {
        "id": "L8qU6gm3sJnu"
      },
      "source": [
        ""
      ],
      "execution_count": null,
      "outputs": []
    },
    {
      "cell_type": "code",
      "metadata": {
        "id": "OObxGQhWsJnv"
      },
      "source": [
        "#https://wmo.asu.edu/content/world-greatest-sixty-minute-one-hour-rainfall\n",
        "#World: Greatest Sixty-Minute (One Hour) Rainfall Record Value\t305mm (12\")\n",
        "\n",
        "\n",
        "threshold = 305"
      ],
      "execution_count": null,
      "outputs": []
    },
    {
      "cell_type": "code",
      "metadata": {
        "id": "QkN_qFEisJnw",
        "outputId": "a49430d7-7114-404b-9f30-391250bfc1c3"
      },
      "source": [
        "train_df = pd.read_csv(\"train.csv\")\n",
        "train_df[train_df.columns[1:]] = train_df[train_df.columns[1:]].astype(np.float32)\n",
        "train_df.shape"
      ],
      "execution_count": null,
      "outputs": [
        {
          "output_type": "execute_result",
          "data": {
            "text/plain": [
              "(13765201, 24)"
            ]
          },
          "metadata": {
            "tags": []
          },
          "execution_count": 12
        }
      ]
    },
    {
      "cell_type": "code",
      "metadata": {
        "id": "cgtt9yfosJnx"
      },
      "source": [
        "data_IDs = []\n",
        "for i in range(0,len(x)):\n",
        "    if x.iloc[i]['Ref'] > 0.0:\n",
        "        data_IDs.append(x.iloc[i]['Id'])\n",
        "        \n",
        "train_df = train_df[train_df['Id'].isin(data_IDs)]"
      ],
      "execution_count": null,
      "outputs": []
    },
    {
      "cell_type": "code",
      "metadata": {
        "id": "n7A7ydxvsJny",
        "outputId": "9ee4ee65-3f10-4a9f-d49c-0af2c31b1312"
      },
      "source": [
        "train_df.fillna(0.0, inplace=True)\n",
        "\n",
        "#https://wmo.asu.edu/content/world-greatest-sixty-minute-one-hour-rainfall\n",
        "#World: Greatest Sixty-Minute (One Hour) Rainfall Record Value\t305mm (12\")\n",
        "\n",
        "train_df = train_df[train_df['Expected'] < 305 ]  #ahead\n",
        "train_df.reset_index(drop=True, inplace=True)\n",
        "\n",
        "train_df.head()"
      ],
      "execution_count": null,
      "outputs": [
        {
          "output_type": "execute_result",
          "data": {
            "text/html": [
              "<div>\n",
              "<style scoped>\n",
              "    .dataframe tbody tr th:only-of-type {\n",
              "        vertical-align: middle;\n",
              "    }\n",
              "\n",
              "    .dataframe tbody tr th {\n",
              "        vertical-align: top;\n",
              "    }\n",
              "\n",
              "    .dataframe thead th {\n",
              "        text-align: right;\n",
              "    }\n",
              "</style>\n",
              "<table border=\"1\" class=\"dataframe\">\n",
              "  <thead>\n",
              "    <tr style=\"text-align: right;\">\n",
              "      <th></th>\n",
              "      <th>Id</th>\n",
              "      <th>minutes_past</th>\n",
              "      <th>radardist_km</th>\n",
              "      <th>Ref</th>\n",
              "      <th>Ref_5x5_10th</th>\n",
              "      <th>Ref_5x5_50th</th>\n",
              "      <th>Ref_5x5_90th</th>\n",
              "      <th>RefComposite</th>\n",
              "      <th>RefComposite_5x5_10th</th>\n",
              "      <th>RefComposite_5x5_50th</th>\n",
              "      <th>...</th>\n",
              "      <th>RhoHV_5x5_90th</th>\n",
              "      <th>Zdr</th>\n",
              "      <th>Zdr_5x5_10th</th>\n",
              "      <th>Zdr_5x5_50th</th>\n",
              "      <th>Zdr_5x5_90th</th>\n",
              "      <th>Kdp</th>\n",
              "      <th>Kdp_5x5_10th</th>\n",
              "      <th>Kdp_5x5_50th</th>\n",
              "      <th>Kdp_5x5_90th</th>\n",
              "      <th>Expected</th>\n",
              "    </tr>\n",
              "  </thead>\n",
              "  <tbody>\n",
              "    <tr>\n",
              "      <th>0</th>\n",
              "      <td>2</td>\n",
              "      <td>1.0</td>\n",
              "      <td>2.0</td>\n",
              "      <td>9.0</td>\n",
              "      <td>5.0</td>\n",
              "      <td>7.5</td>\n",
              "      <td>10.5</td>\n",
              "      <td>15.0</td>\n",
              "      <td>10.5</td>\n",
              "      <td>16.5</td>\n",
              "      <td>...</td>\n",
              "      <td>0.998333</td>\n",
              "      <td>0.3750</td>\n",
              "      <td>-0.1250</td>\n",
              "      <td>0.3125</td>\n",
              "      <td>0.8750</td>\n",
              "      <td>1.059998</td>\n",
              "      <td>-1.410004</td>\n",
              "      <td>-0.350006</td>\n",
              "      <td>1.059998</td>\n",
              "      <td>1.016001</td>\n",
              "    </tr>\n",
              "    <tr>\n",
              "      <th>1</th>\n",
              "      <td>2</td>\n",
              "      <td>6.0</td>\n",
              "      <td>2.0</td>\n",
              "      <td>26.5</td>\n",
              "      <td>22.5</td>\n",
              "      <td>25.5</td>\n",
              "      <td>31.5</td>\n",
              "      <td>26.5</td>\n",
              "      <td>26.5</td>\n",
              "      <td>28.5</td>\n",
              "      <td>...</td>\n",
              "      <td>1.005000</td>\n",
              "      <td>0.0625</td>\n",
              "      <td>-0.1875</td>\n",
              "      <td>0.2500</td>\n",
              "      <td>0.6875</td>\n",
              "      <td>0.000000</td>\n",
              "      <td>0.000000</td>\n",
              "      <td>0.000000</td>\n",
              "      <td>1.409988</td>\n",
              "      <td>1.016001</td>\n",
              "    </tr>\n",
              "    <tr>\n",
              "      <th>2</th>\n",
              "      <td>2</td>\n",
              "      <td>11.0</td>\n",
              "      <td>2.0</td>\n",
              "      <td>21.5</td>\n",
              "      <td>15.5</td>\n",
              "      <td>20.5</td>\n",
              "      <td>25.0</td>\n",
              "      <td>26.5</td>\n",
              "      <td>23.5</td>\n",
              "      <td>25.0</td>\n",
              "      <td>...</td>\n",
              "      <td>1.001667</td>\n",
              "      <td>0.3125</td>\n",
              "      <td>-0.0625</td>\n",
              "      <td>0.3125</td>\n",
              "      <td>0.6250</td>\n",
              "      <td>0.349991</td>\n",
              "      <td>0.000000</td>\n",
              "      <td>-0.350006</td>\n",
              "      <td>1.759995</td>\n",
              "      <td>1.016001</td>\n",
              "    </tr>\n",
              "    <tr>\n",
              "      <th>3</th>\n",
              "      <td>2</td>\n",
              "      <td>16.0</td>\n",
              "      <td>2.0</td>\n",
              "      <td>18.0</td>\n",
              "      <td>14.0</td>\n",
              "      <td>17.5</td>\n",
              "      <td>21.0</td>\n",
              "      <td>20.5</td>\n",
              "      <td>18.0</td>\n",
              "      <td>20.5</td>\n",
              "      <td>...</td>\n",
              "      <td>1.001667</td>\n",
              "      <td>0.2500</td>\n",
              "      <td>0.1250</td>\n",
              "      <td>0.3750</td>\n",
              "      <td>0.6875</td>\n",
              "      <td>0.349991</td>\n",
              "      <td>-1.059998</td>\n",
              "      <td>0.000000</td>\n",
              "      <td>1.059998</td>\n",
              "      <td>1.016001</td>\n",
              "    </tr>\n",
              "    <tr>\n",
              "      <th>4</th>\n",
              "      <td>2</td>\n",
              "      <td>21.0</td>\n",
              "      <td>2.0</td>\n",
              "      <td>24.5</td>\n",
              "      <td>16.5</td>\n",
              "      <td>21.0</td>\n",
              "      <td>24.5</td>\n",
              "      <td>24.5</td>\n",
              "      <td>21.0</td>\n",
              "      <td>24.0</td>\n",
              "      <td>...</td>\n",
              "      <td>0.998333</td>\n",
              "      <td>0.2500</td>\n",
              "      <td>0.0625</td>\n",
              "      <td>0.1875</td>\n",
              "      <td>0.5625</td>\n",
              "      <td>-0.350006</td>\n",
              "      <td>-1.059998</td>\n",
              "      <td>-0.350006</td>\n",
              "      <td>1.759995</td>\n",
              "      <td>1.016001</td>\n",
              "    </tr>\n",
              "  </tbody>\n",
              "</table>\n",
              "<p>5 rows × 24 columns</p>\n",
              "</div>"
            ],
            "text/plain": [
              "   Id  minutes_past  radardist_km   Ref  Ref_5x5_10th  Ref_5x5_50th  \\\n",
              "0   2           1.0           2.0   9.0           5.0           7.5   \n",
              "1   2           6.0           2.0  26.5          22.5          25.5   \n",
              "2   2          11.0           2.0  21.5          15.5          20.5   \n",
              "3   2          16.0           2.0  18.0          14.0          17.5   \n",
              "4   2          21.0           2.0  24.5          16.5          21.0   \n",
              "\n",
              "   Ref_5x5_90th  RefComposite  RefComposite_5x5_10th  RefComposite_5x5_50th  \\\n",
              "0          10.5          15.0                   10.5                   16.5   \n",
              "1          31.5          26.5                   26.5                   28.5   \n",
              "2          25.0          26.5                   23.5                   25.0   \n",
              "3          21.0          20.5                   18.0                   20.5   \n",
              "4          24.5          24.5                   21.0                   24.0   \n",
              "\n",
              "   ...  RhoHV_5x5_90th     Zdr  Zdr_5x5_10th  Zdr_5x5_50th  Zdr_5x5_90th  \\\n",
              "0  ...        0.998333  0.3750       -0.1250        0.3125        0.8750   \n",
              "1  ...        1.005000  0.0625       -0.1875        0.2500        0.6875   \n",
              "2  ...        1.001667  0.3125       -0.0625        0.3125        0.6250   \n",
              "3  ...        1.001667  0.2500        0.1250        0.3750        0.6875   \n",
              "4  ...        0.998333  0.2500        0.0625        0.1875        0.5625   \n",
              "\n",
              "        Kdp  Kdp_5x5_10th  Kdp_5x5_50th  Kdp_5x5_90th  Expected  \n",
              "0  1.059998     -1.410004     -0.350006      1.059998  1.016001  \n",
              "1  0.000000      0.000000      0.000000      1.409988  1.016001  \n",
              "2  0.349991      0.000000     -0.350006      1.759995  1.016001  \n",
              "3  0.349991     -1.059998      0.000000      1.059998  1.016001  \n",
              "4 -0.350006     -1.059998     -0.350006      1.759995  1.016001  \n",
              "\n",
              "[5 rows x 24 columns]"
            ]
          },
          "metadata": {
            "tags": []
          },
          "execution_count": 60
        }
      ]
    },
    {
      "cell_type": "code",
      "metadata": {
        "id": "5l0uJQKNsJnz",
        "outputId": "d7a0ca9a-dce0-4bae-e48d-38fbc80b4a1c"
      },
      "source": [
        "train_grp = train_df.groupby(\"Id\")\n",
        "train_size = len(train_grp)\n",
        "max_size = train_grp.size().max()\n",
        "max_size"
      ],
      "execution_count": null,
      "outputs": [
        {
          "output_type": "execute_result",
          "data": {
            "text/plain": [
              "(8969319, 24)"
            ]
          },
          "metadata": {
            "tags": []
          },
          "execution_count": 61
        }
      ]
    },
    {
      "cell_type": "code",
      "metadata": {
        "id": "v1viJrO4sJnz",
        "outputId": "43cede1b-2acb-4f4a-a176-97bc538c46fc"
      },
      "source": [
        "features = 22\n",
        "X_train = np.zeros((train_size, max_size, features), dtype=np.float32)\n",
        "y_train = np.zeros(train_size, dtype=np.float32)\n",
        "\n",
        "i = 0\n",
        "for _, group in train_grp:\n",
        "    X = group.values\n",
        "    seq_len = X.shape[0]\n",
        "    X_train[i,:seq_len,:] = X[:,1:23]\n",
        "    y_train[i] = X[0,23]\n",
        "    i += 1\n",
        "    \n",
        "X_train.shape, y_train.shape"
      ],
      "execution_count": null,
      "outputs": [
        {
          "output_type": "execute_result",
          "data": {
            "text/plain": [
              "((717076, 19, 22), (717076,))"
            ]
          },
          "metadata": {
            "tags": []
          },
          "execution_count": 70
        }
      ]
    },
    {
      "cell_type": "code",
      "metadata": {
        "id": "TQmjxpZ8sJnz",
        "outputId": "87561edc-652a-49c3-ae7f-3e32cd0f1cab"
      },
      "source": [
        "test_grp = test_df.groupby(\"Id\")\n",
        "test_size = len(test_grp)\n",
        "\n",
        "X_test = np.zeros((test_size, max_size, features), dtype=np.float32)\n",
        "\n",
        "i = 0\n",
        "for _, group in test_grp:\n",
        "    X = group.values\n",
        "    seq_len = X.shape[0]\n",
        "    X_test[i,:seq_len,:] = X[:,1:23]\n",
        "    i += 1\n",
        "\n",
        "X_test.shape"
      ],
      "execution_count": null,
      "outputs": [
        {
          "output_type": "execute_result",
          "data": {
            "text/plain": [
              "(717625, 19, 22)"
            ]
          },
          "metadata": {
            "tags": []
          },
          "execution_count": 73
        }
      ]
    },
    {
      "cell_type": "code",
      "metadata": {
        "id": "A14lQeldsJn0"
      },
      "source": [
        "from keras.models import Model\n",
        "from keras.layers import LSTM, Input, TimeDistributed, Dropout, Dense, BatchNormalization, Flatten\n",
        "from keras.layers import Layer, GlobalAveragePooling1D, AveragePooling1D, Bidirectional, Masking\n",
        "from keras.optimizers import Adam,Nadam\n",
        "from keras.callbacks import EarlyStopping, ReduceLROnPlateau, ProgbarLogger"
      ],
      "execution_count": null,
      "outputs": []
    },
    {
      "cell_type": "code",
      "metadata": {
        "id": "B55XIXJjsJn0"
      },
      "source": [
        "early_stop = EarlyStopping(patience=10)\n",
        "reduce_lr = ReduceLROnPlateau(patience=5, min_delta=0.0005,factor=0.1)\n",
        "progbar_logger = ProgbarLogger(count_mode='samples', stateful_metrics=None)"
      ],
      "execution_count": null,
      "outputs": []
    },
    {
      "cell_type": "code",
      "metadata": {
        "id": "48ZZ7gsLsJn1"
      },
      "source": [
        "def get_model_deep(shape=(max_size, features)):\n",
        "    inp = Input(shape)\n",
        "    x = Dense(4)(inp)\n",
        "    x = BatchNormalization()(x)\n",
        "    x = Bidirectional(LSTM(16, return_sequences=True))(x)\n",
        "    x = BatchNormalization()(x)\n",
        "    x = TimeDistributed(Dense(16))(x)\n",
        "    x = BatchNormalization()(x)\n",
        "    x = Bidirectional(LSTM(32, return_sequences=True))(x)\n",
        "    x = BatchNormalization()(x)\n",
        "    x = TimeDistributed(Dense(1))(x)\n",
        "    x = BatchNormalization()(x)\n",
        "    x = Flatten()(x)\n",
        "    x = Dropout(0.4)(x)\n",
        "    x = Dense(1)(x)\n",
        "\n",
        "    model = Model(inp, x)\n",
        "    return model"
      ],
      "execution_count": null,
      "outputs": []
    },
    {
      "cell_type": "code",
      "metadata": {
        "id": "ygIMLj4ysJn2",
        "outputId": "17c1e9c6-5cc3-4cd6-a5f1-3917b35628de"
      },
      "source": [
        "model = get_model_deep()\n",
        "model.compile(optimizer=Nadam(lr=0.005), loss='mae')\n",
        "model.summary()"
      ],
      "execution_count": null,
      "outputs": [
        {
          "output_type": "stream",
          "text": [
            "Model: \"model_5\"\n",
            "_________________________________________________________________\n",
            "Layer (type)                 Output Shape              Param #   \n",
            "=================================================================\n",
            "input_7 (InputLayer)         (None, 19, 22)            0         \n",
            "_________________________________________________________________\n",
            "dense_23 (Dense)             (None, 19, 4)             92        \n",
            "_________________________________________________________________\n",
            "batch_normalization_31 (Batc (None, 19, 4)             16        \n",
            "_________________________________________________________________\n",
            "bidirectional_13 (Bidirectio (None, 19, 32)            2688      \n",
            "_________________________________________________________________\n",
            "batch_normalization_32 (Batc (None, 19, 32)            128       \n",
            "_________________________________________________________________\n",
            "time_distributed_13 (TimeDis (None, 19, 16)            528       \n",
            "_________________________________________________________________\n",
            "batch_normalization_33 (Batc (None, 19, 16)            64        \n",
            "_________________________________________________________________\n",
            "bidirectional_14 (Bidirectio (None, 19, 64)            12544     \n",
            "_________________________________________________________________\n",
            "batch_normalization_34 (Batc (None, 19, 64)            256       \n",
            "_________________________________________________________________\n",
            "time_distributed_14 (TimeDis (None, 19, 1)             65        \n",
            "_________________________________________________________________\n",
            "batch_normalization_35 (Batc (None, 19, 1)             4         \n",
            "_________________________________________________________________\n",
            "flatten_6 (Flatten)          (None, 19)                0         \n",
            "_________________________________________________________________\n",
            "dropout_5 (Dropout)          (None, 19)                0         \n",
            "_________________________________________________________________\n",
            "dense_26 (Dense)             (None, 1)                 20        \n",
            "=================================================================\n",
            "Total params: 16,405\n",
            "Trainable params: 16,171\n",
            "Non-trainable params: 234\n",
            "_________________________________________________________________\n"
          ],
          "name": "stdout"
        }
      ]
    },
    {
      "cell_type": "code",
      "metadata": {
        "id": "ra-Tv2ObsJn2"
      },
      "source": [
        "batch = 512\n",
        "epochs = 3"
      ],
      "execution_count": null,
      "outputs": []
    },
    {
      "cell_type": "code",
      "metadata": {
        "id": "l603zodzsJn3",
        "outputId": "f95291cd-9537-47b0-ce87-e8be54cd3bb7"
      },
      "source": [
        "history = model.fit(X_train, y_train, \n",
        "            batch_size=batch, epochs=epochs, \n",
        "            validation_split=0.2, callbacks=[early_stop, reduce_lr, progbar_logger])"
      ],
      "execution_count": null,
      "outputs": [
        {
          "output_type": "stream",
          "text": [
            "Train on 573660 samples, validate on 143416 samples\n",
            "Epoch 1/3\n",
            "Epoch 1/3\n",
            "573660/573660 [==============================] - 179s 312us/step - loss: 4.1887 - val_loss: 4.4362\n",
            "573660/573660 [==============================] - 179s 312us/step - loss: 4.1887 - val_loss: 4.4362\n",
            "Epoch 2/3\n",
            "Epoch 2/3\n",
            "573660/573660 [==============================] - 199s 347us/step - loss: 4.1273 - val_loss: 4.4012\n",
            "573660/573660 [==============================] - 199s 347us/step - loss: 4.1273 - val_loss: 4.4012\n",
            "Epoch 3/3\n",
            "Epoch 3/3\n",
            "573660/573660 [==============================] - 186s 324us/step - loss: 4.1134 - val_loss: 4.3560\n",
            "573660/573660 [==============================] - 186s 324us/step - loss: 4.1134 - val_loss: 4.3560\n"
          ],
          "name": "stdout"
        }
      ]
    },
    {
      "cell_type": "code",
      "metadata": {
        "id": "FpILBBFFsJn3",
        "outputId": "10e0cce0-3e9b-422f-db7a-eecd29f792cb"
      },
      "source": [
        "\n",
        "plt.plot(history.history['loss'])\n",
        "plt.plot(history.history['val_loss'])\n",
        "plt.title('LSTM loss')\n",
        "plt.ylabel('loss value')\n",
        "plt.xlabel('epoch value')\n",
        "plt.legend(['train', 'test'], loc='upper right')\n",
        "plt.show()"
      ],
      "execution_count": null,
      "outputs": [
        {
          "output_type": "display_data",
          "data": {
            "image/png": "[encoded data removed]",
            "text/plain": [
              "<Figure size 432x288 with 1 Axes>"
            ]
          },
          "metadata": {
            "tags": [],
            "needs_background": "light"
          }
        }
      ]
    },
    {
      "cell_type": "code",
      "metadata": {
        "id": "Khw8t9rXsJn4"
      },
      "source": [
        "test_ids = test_df['Id'].unique()\n",
        "y_pred = model.predict(X_test, batch_size=batch)\n",
        "submission = pd.DataFrame({'Id': test_ids, 'Expected': y_pred.reshape(-1)})\n",
        "submission.to_csv('submission.csv', index=False)"
      ],
      "execution_count": null,
      "outputs": []
    },
    {
      "cell_type": "code",
      "metadata": {
        "id": "UhWb131rsJn4"
      },
      "source": [
        ""
      ],
      "execution_count": null,
      "outputs": []
    },
    {
      "cell_type": "code",
      "metadata": {
        "id": "DVRqAgWnsJn4"
      },
      "source": [
        ""
      ],
      "execution_count": null,
      "outputs": []
    },
    {
      "cell_type": "code",
      "metadata": {
        "id": "2v-s-zjTsJn4"
      },
      "source": [
        ""
      ],
      "execution_count": null,
      "outputs": []
    },
    {
      "cell_type": "code",
      "metadata": {
        "id": "n7d1SjcdsJn5"
      },
      "source": [
        ""
      ],
      "execution_count": null,
      "outputs": []
    },
    {
      "cell_type": "code",
      "metadata": {
        "id": "d-S5pUl7sJn5"
      },
      "source": [
        ""
      ],
      "execution_count": null,
      "outputs": []
    },
    {
      "cell_type": "code",
      "metadata": {
        "id": "MkrOAo2GsJn5"
      },
      "source": [
        ""
      ],
      "execution_count": null,
      "outputs": []
    },
    {
      "cell_type": "code",
      "metadata": {
        "id": "wMF3Wr-1sJn5"
      },
      "source": [
        ""
      ],
      "execution_count": null,
      "outputs": []
    }
  ]
}