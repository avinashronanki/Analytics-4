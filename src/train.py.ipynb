{
 "cells": [
  {
   "cell_type": "code",
   "execution_count": null,
   "metadata": {},
   "outputs": [],
   "source": [
    "import json\n",
    "import os\n",
    "\n",
    "import gym\n",
    "import ray\n",
    "from ray.tune import run_experiments\n",
    "from ray.tune.registry import register_env\n",
    "\n",
    "from sagemaker_rl.ray_launcher import SageMakerRayLauncher\n",
    "\n",
    "\n",
    "def create_environment(env_config):\n",
    "    return gym.make('CartPole-v1')\n",
    "\n",
    "class MyLauncher(SageMakerRayLauncher):\n",
    "\n",
    "    def register_env_creator(self):\n",
    "        register_env(\"CartPole-v1\", create_environment)\n",
    "\n",
    "    def get_experiment_config(self):\n",
    "        return {\n",
    "          \"training\": {\n",
    "            \"env\": \"CartPole-v1\",\n",
    "            \"run\": \"PPO\",\n",
    "            \"stop\": {\n",
    "                \"training_iteration\": 40\n",
    "            },\n",
    "            \"config\": {\n",
    "              \"use_pytorch\": False,\n",
    "              \"gamma\": 0.99,\n",
    "              \"kl_coeff\": 1.0,\n",
    "              \"num_sgd_iter\": 20,\n",
    "              \"lr\": 0.0001,\n",
    "              \"sgd_minibatch_size\": 1000,\n",
    "              \"train_batch_size\": 25000,\n",
    "              \"monitor\": True,  # Record videos.\n",
    "              \"model\": {\n",
    "                 \"free_log_std\": True\n",
    "              },\n",
    "              \"num_workers\": (self.num_cpus-1),\n",
    "              \"num_gpus\": self.num_gpus,\n",
    "              \"batch_mode\": \"truncate_episodes\"\n",
    "            }\n",
    "          }\n",
    "        }\n",
    "\n",
    "if __name__ == \"__main__\":\n",
    "    MyLauncher().train_main()"
   ]
  }
 ],
 "metadata": {
  "kernelspec": {
   "display_name": "Python 3",
   "language": "python",
   "name": "python3"
  },
  "language_info": {
   "codemirror_mode": {
    "name": "ipython",
    "version": 3
   },
   "file_extension": ".py",
   "mimetype": "text/x-python",
   "name": "python",
   "nbconvert_exporter": "python",
   "pygments_lexer": "ipython3",
   "version": "3.8.5"
  }
 },
 "nbformat": 4,
 "nbformat_minor": 4
}
